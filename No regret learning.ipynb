{
 "cells": [
  {
   "cell_type": "markdown",
   "id": "bf6d458d",
   "metadata": {},
   "source": [
    "Load packages required:"
   ]
  },
  {
   "cell_type": "code",
   "execution_count": 1,
   "id": "98b49822",
   "metadata": {},
   "outputs": [],
   "source": [
    "import numpy as np\n",
    "import numpy.random as rand\n",
    "import matplotlib.pyplot as plt\n",
    "from math import sqrt"
   ]
  },
  {
   "cell_type": "markdown",
   "id": "500e48e0",
   "metadata": {},
   "source": [
    "Implement Algorithm 1:"
   ]
  },
  {
   "cell_type": "code",
   "execution_count": 2,
   "id": "2a8769ac",
   "metadata": {},
   "outputs": [],
   "source": [
    "def strategies(S,N):\n",
    "    \n",
    "    def tobase(x, base=S+1, digits=N):\n",
    "        output = []\n",
    "        for i in range(digits):\n",
    "            power = digits - i - 1\n",
    "            newdigit = x // (base**power)\n",
    "            x -= newdigit*base**power\n",
    "            output.append(newdigit)\n",
    "            \n",
    "        return output\n",
    "    strategies = [tobase(x) for x in range((S+1)**N + 1)]\n",
    "    \n",
    "    return [item for item in strategies if sum(item) == S]"
   ]
  },
  {
   "cell_type": "markdown",
   "id": "4153c40e",
   "metadata": {},
   "source": [
    "Implement Algorithm 2:\n"
   ]
  },
  {
   "cell_type": "code",
   "execution_count": 3,
   "id": "76e165a5",
   "metadata": {},
   "outputs": [],
   "source": [
    "def payoff1(s1, s2):\n",
    "    wins = [p1 >= p2 for p1,p2 in zip(s1, s2)]\n",
    "    return sum(wins)\n",
    "\n",
    "def payoff2(s1, s2):\n",
    "    return len(s1) - payoff1(s1, s2)"
   ]
  },
  {
   "cell_type": "code",
   "execution_count": 4,
   "id": "f7ba77a8",
   "metadata": {},
   "outputs": [],
   "source": [
    "#Calculate possible actions and payoff matrices for Blotto game\n",
    "strategy = strategies(5,3)\n",
    "n = len(strategy)\n",
    "A = np.zeros((n,n))\n",
    "B = np.zeros((n,n))\n",
    "\n",
    "for i in range(0,n):\n",
    "    for j in range(0,n):\n",
    "        A[i,j] = payoff1(strategy[i], strategy[j])\n",
    "        B[i,j] = payoff2(strategy[i], strategy[j])"
   ]
  },
  {
   "cell_type": "markdown",
   "id": "02c6cf00",
   "metadata": {},
   "source": [
    "Implement Algorithm 3:"
   ]
  },
  {
   "cell_type": "code",
   "execution_count": 5,
   "id": "663f7ddc",
   "metadata": {},
   "outputs": [],
   "source": [
    "# Implement regret learning algorithm\n",
    "def swap(j, k, A, p1actions, p2actions, time):\n",
    "    xaction = p1actions[time-1]\n",
    "    yaction = p2actions[time-1]\n",
    "    if xaction == j:\n",
    "        return A[k,yaction]\n",
    "    else:\n",
    "        return A[xaction,yaction]\n",
    "\n",
    "def diff(j, k, A, p1actions, p2actions, time):\n",
    "    return sum([swap(j, k, A, p1actions, p2actions, t) - A[p1actions[t-1], p2actions[t-1]] for t in range(1,time+1)])/time\n",
    " \n",
    "def regret(j, k, A, p1actions, p2actions, time):\n",
    "    return max(0, diff(j, k, A, p1actions, p2actions, time))\n",
    "    \n",
    "def HMC(A, B, runtime, mu):\n",
    "    n = np.shape(A)[0]\n",
    "    m = np.shape(A)[1]\n",
    "    t = 1\n",
    "\n",
    "    p1actions = [0]\n",
    "    p2actions = [0]\n",
    "    \n",
    "    extras = []\n",
    "    specialtimes = [100,200,500,1000,2000,5000,10000,20000]\n",
    "    \n",
    "    # Implement regret learning for t > 1\n",
    "    while t < runtime:\n",
    "        \n",
    "        latest1 = p1actions[-1]\n",
    "        latest2 = p2actions[-1]\n",
    "        \n",
    "        #Calculate regrets\n",
    "        regret1 = [regret(latest1, k, A, p1actions, p2actions, t) for k in range(n)]\n",
    "        regret2 = [regret(latest2, k, B, p1actions, p2actions, t) for k in range(m)]\n",
    "        \n",
    "        prob1 = [regret/mu for regret in regret1]\n",
    "        prob2 = [regret/mu for regret in regret2]\n",
    "        \n",
    "        prob1[latest1] = 1 - sum(prob1)\n",
    "        prob2[latest2] = 1 - sum(prob2)\n",
    "        \n",
    "        p1actions.append(rand.choice(n, p=prob1))\n",
    "        p2actions.append(rand.choice(m, p=prob2))\n",
    "        \n",
    "        t += 1\n",
    "        \n",
    "        if t in specialtimes:\n",
    "            extraregrets = [regret(5, 20, A, p1actions, p2actions, t), regret(20, 16, A, p1actions, p2actions, t),\n",
    "                            regret(4, 6, B, p1actions, p2actions, t), regret(20, 18, B, p1actions, p2actions, t)]\n",
    "            extras.append(extraregrets)\n",
    "        \n",
    "    result1 = [p1actions.count(k)/runtime for k in range(n)]\n",
    "    result2 = [p2actions.count(k)/runtime for k in range(m)]\n",
    "    extras = np.array(extras)\n",
    "    \n",
    "    return [result1, result2, extras, p1actions, p2actions]"
   ]
  },
  {
   "cell_type": "code",
   "execution_count": 6,
   "id": "ecc9a506",
   "metadata": {},
   "outputs": [],
   "source": [
    "#Run regret learning algorithm for Blotto game\n",
    "rand.seed(1635)\n",
    "results = HMC(A,B,20000,40.1)"
   ]
  },
  {
   "cell_type": "code",
   "execution_count": 7,
   "id": "d3f3ce3f",
   "metadata": {},
   "outputs": [
    {
     "data": {
      "image/png": "[encoded data removed]",
      "text/plain": [
       "<Figure size 432x288 with 1 Axes>"
      ]
     },
     "metadata": {
      "needs_background": "light"
     },
     "output_type": "display_data"
    }
   ],
   "source": [
    "#Plot regrets for certain i,j,k against time\n",
    "x = [100,200,500,1000,2000,5000,10000,20000]\n",
    "regrets = results[2]\n",
    "plt.plot(x, regrets[:,0], label = \"i = 1, j = 5, k = 20\")\n",
    "plt.plot(x, regrets[:,1], label = \"i = 1, j = 20, k = 16\")\n",
    "plt.plot(x, regrets[:,2], label = \"i = 2, j = 5, k = 1\")\n",
    "plt.plot(x, regrets[:,3], label = \"i = 2, j = 20, k = 18\")\n",
    "\n",
    "plt.title('Regrets for various i,j,k')\n",
    "plt.ylabel('Regrets')\n",
    "plt.xlabel('Time')\n",
    "plt.legend()\n",
    "\n",
    "plt.xscale('log')\n",
    "#plt.savefig('conv1.png') Uncomment to save figure\n",
    "plt.show()"
   ]
  },
  {
   "cell_type": "code",
   "execution_count": 8,
   "id": "5e853fb5",
   "metadata": {},
   "outputs": [
    {
     "name": "stdout",
     "output_type": "stream",
     "text": [
      "[11, 20]\n",
      "[5, 11, 20]\n"
     ]
    }
   ],
   "source": [
    "#Find IDs of most popular actions\n",
    "p1results = results[0]\n",
    "significant1 = [i for i in range(21) if p1results[i] > 0.1]\n",
    "p2results = results[1]\n",
    "significant2 = [i for i in range(21) if p2results[i] > 0.1]\n",
    "print(significant1)\n",
    "print(significant2)"
   ]
  },
  {
   "cell_type": "code",
   "execution_count": 9,
   "id": "a1f6b623",
   "metadata": {},
   "outputs": [
    {
     "data": {
      "text/plain": [
       "[[2, 0, 3], [5, 0, 0]]"
      ]
     },
     "execution_count": 9,
     "metadata": {},
     "output_type": "execute_result"
    }
   ],
   "source": [
    "#Find popular actions for player 1\n",
    "[strategy[i] for i in significant1]"
   ]
  },
  {
   "cell_type": "code",
   "execution_count": 10,
   "id": "278ebe39",
   "metadata": {},
   "outputs": [
    {
     "data": {
      "text/plain": [
       "[[0, 5, 0], [2, 0, 3], [5, 0, 0]]"
      ]
     },
     "execution_count": 10,
     "metadata": {},
     "output_type": "execute_result"
    }
   ],
   "source": [
    "#Find popular actions for player 2\n",
    "[strategy[i] for i in significant2]"
   ]
  },
  {
   "cell_type": "code",
   "execution_count": 23,
   "id": "922aa73e",
   "metadata": {},
   "outputs": [
    {
     "name": "stdout",
     "output_type": "stream",
     "text": [
      "882\n",
      "187\n",
      "42\n"
     ]
    }
   ],
   "source": [
    "#Calculate empirical distribution of pairs of actions\n",
    "p1actions = results[3]\n",
    "p2actions = results[4]\n",
    "pij = np.zeros((21,21))\n",
    "for i,j in zip(p1actions,p2actions):\n",
    "        pij[i,j] += 1\n",
    "pij = pij/20000\n",
    "\n",
    "CE = []\n",
    "for i in range(21):\n",
    "    for idash in range(21):\n",
    "            value = np.dot(A[idash,:], pij[i,:]) - np.dot(A[i,:], pij[i,:])\n",
    "            CE.append(value)\n",
    "for j in range(21):\n",
    "    for jdash in range(21):\n",
    "            value = np.dot(B[:,jdash], pij[:,j]) - np.dot(B[:,j], pij[:,j])\n",
    "            CE.append(value)\n",
    "print(len(CE))\n",
    "#Calculate how many inequalities are more than x away from being satisfied:\n",
    "print(sum([1 for k in CE if k >= 0.01]))\n",
    "print(sum([1 for k in CE if k >= 0.05]))"
   ]
  },
  {
   "cell_type": "code",
   "execution_count": 12,
   "id": "c211c5de",
   "metadata": {},
   "outputs": [
    {
     "data": {
      "image/png": "[encoded data removed]",
      "text/plain": [
       "<Figure size 432x288 with 1 Axes>"
      ]
     },
     "metadata": {
      "needs_background": "light"
     },
     "output_type": "display_data"
    }
   ],
   "source": [
    "#Estimate expected value of adjusted regret and plot vs time\n",
    "rand.seed(6482)\n",
    "regretsim = []\n",
    "for i in range(10):\n",
    "    newresults = HMC(A,B,2000,40.1)[2]\n",
    "    regretsim.append(newresults)\n",
    "    \n",
    "regretsim = sum(regretsim)/10\n",
    "\n",
    "x = [100,200,500,1000,2000]\n",
    "y0 = [a*sqrt(b) for a,b in zip(regretsim[:,0],x)]\n",
    "y1 = [a*sqrt(b) for a,b in zip(regretsim[:,1],x)]\n",
    "y2 = [a*sqrt(b) for a,b in zip(regretsim[:,2],x)]\n",
    "y3 = [a*sqrt(b) for a,b in zip(regretsim[:,3],x)]\n",
    "\n",
    "plt.plot(x, y0, label = \"i = 1, j = 5, k = 20\")\n",
    "plt.plot(x, y1, label = \"i = 1, j = 20, k = 16\")\n",
    "plt.plot(x, y2, label = \"i = 2, j = 5, k = 1\")\n",
    "plt.plot(x, y3, label = \"i = 2, j = 20, k = 18\")\n",
    "\n",
    "plt.title('Regrets for various i,j,k adjusted for time')\n",
    "plt.ylabel('Adjusted Regrets')\n",
    "plt.xlabel('Time')\n",
    "plt.legend()\n",
    "\n",
    "plt.xscale('log')\n",
    "#plt.savefig('conv2.png') Uncomment to save figure\n",
    "plt.show()"
   ]
  },
  {
   "cell_type": "code",
   "execution_count": null,
   "id": "0fb506a8",
   "metadata": {},
   "outputs": [],
   "source": []
  }
 ],
 "metadata": {
  "kernelspec": {
   "display_name": "Python 3 (ipykernel)",
   "language": "python",
   "name": "python3"
  },
  "language_info": {
   "codemirror_mode": {
    "name": "ipython",
    "version": 3
   },
   "file_extension": ".py",
   "mimetype": "text/x-python",
   "name": "python",
   "nbconvert_exporter": "python",
   "pygments_lexer": "ipython3",
   "version": "3.9.7"
  }
 },
 "nbformat": 4,
 "nbformat_minor": 5
}
